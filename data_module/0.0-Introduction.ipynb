{
 "cells": [
  {
   "cell_type": "markdown",
   "metadata": {},
   "source": [
    "<div style=\"text-align: center; background-color: #b1d1ff; font-family: 'Trebuchet MS', Arial, sans-serif; color: white; padding: 20px; font-size: 40px; font-weight: bold; border-radius: 0 0 0 0; box-shadow: 0px 6px 8px rgba(0, 0, 0, 0.2);\">\n",
    "Introduction \n",
    "</div>"
   ]
  },
  {
   "cell_type": "markdown",
   "metadata": {},
   "source": [
    "<div style=\"color:#b1d1ff; font-size:32px;\">ĐỒ ÁN CUỐI KÌ - NHẬP MÔN KHOA HỌC DỮ LIỆU</div>"
   ]
  },
  {
   "cell_type": "markdown",
   "metadata": {},
   "source": [
    "#### <font color=darkseagreen>NHÓM 27</font>"
   ]
  },
  {
   "cell_type": "markdown",
   "metadata": {},
   "source": [
    "***"
   ]
  },
  {
   "cell_type": "markdown",
   "metadata": {},
   "source": [
    "<div style=\"color:#b1d1ff; font-size:32px;\">Chủ đề: Bảng xếp hạng các trường đại học trên thế giới</div>"
   ]
  },
  {
   "cell_type": "markdown",
   "metadata": {},
   "source": [
    "**Nguồn thu thập dữ liệu**"
   ]
  },
  {
   "cell_type": "markdown",
   "metadata": {},
   "source": [
    "- **https://www.topuniversities.com/** là một trang thông tin về các trường đại học và các xếp hạng đại học trên toàn thế giới. Trang này thường cung cấp thông tin về các trường đại học, chương trình học, các xếp hạng và đánh giá của các trường đại học dựa trên các tiêu chí như chất lượng giảng dạy, nghiên cứu, uy tín quốc tế, và các yếu tố khác.\n",
    "\n",
    "- Đường dẫn: **https://www.topuniversities.com/world-university-rankings?tab=indicators&sort_by=rank&order_by=asc**"
   ]
  },
  {
   "cell_type": "markdown",
   "metadata": {},
   "source": [
    "**Lí do chọn đề tài**"
   ]
  },
  {
   "cell_type": "markdown",
   "metadata": {},
   "source": [
    "- Hiện nay nhu cầu học thuật trên toàn thế giới càng ngày càng được quan tâm, vì vậy nên:\n",
    "\n",
    "    + Bảng xếp hạng cung cấp một cái nhìn tổng quan về chất lượng giáo dục tại các trường đại học trên toàn cầu.\n",
    "\n",
    "    + Sinh viên có thể sử dụng bảng xếp hạng để xác định trường đại học có các chương trình đào tạo tốt nhất cho ngành học mà họ quan tâm.\n",
    "\n",
    "    + Có thể tạo ra sự liên kết giữa trường đại học và cơ hội nghề nghiệp, giúp sinh viên hiểu rõ về tiềm năng sự nghiệp sau khi tốt nghiệp.\n",
    "\n",
    "    + Xác định những trường nổi tiếng có thể giúp sinh viên liên lạc với cựu sinh viên và hỏi ý kiến về trải nghiệm học tập.\n",
    "\n",
    "    + Sinh viên quốc tế thường sử dụng bảng xếp hạng để quyết định trường đại học và quốc gia để du học."
   ]
  }
 ],
 "metadata": {
  "language_info": {
   "name": "python"
  }
 },
 "nbformat": 4,
 "nbformat_minor": 2
}

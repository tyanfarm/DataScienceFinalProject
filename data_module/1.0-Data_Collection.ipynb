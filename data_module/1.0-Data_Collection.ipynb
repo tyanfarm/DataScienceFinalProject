{
 "cells": [
  {
   "cell_type": "markdown",
   "metadata": {},
   "source": [
    "<div style=\"text-align: center; background-color: #b1d1ff; font-family: 'Trebuchet MS', Arial, sans-serif; color: white; padding: 20px; font-size: 40px; font-weight: bold; border-radius: 0 0 0 0; box-shadow: 0px 6px 8px rgba(0, 0, 0, 0.2);\">\n",
    "Data Collection\n",
    "</div>"
   ]
  },
  {
   "cell_type": "markdown",
   "metadata": {},
   "source": [
    "## Import"
   ]
  },
  {
   "cell_type": "code",
   "execution_count": 1,
   "metadata": {},
   "outputs": [],
   "source": [
    "import requests\n",
    "import numpy as np\n",
    "import pandas as pd\n",
    "import re\n",
    "import xml.etree.ElementTree as ET"
   ]
  },
  {
   "cell_type": "markdown",
   "metadata": {},
   "source": [
    "## Collect data from website"
   ]
  },
  {
   "cell_type": "code",
   "execution_count": 2,
   "metadata": {},
   "outputs": [],
   "source": [
    "def collect_data(cur_page, items_per_page):\n",
    "    # Khai báo sẵn các mảng để đưa vào dataframe\n",
    "    name = []\n",
    "    region = []\n",
    "    country = []\n",
    "    overall = []\n",
    "    AcademicReputation = []\n",
    "    EmployerReputation = []\n",
    "    FacultyStudentRatio = []\n",
    "    CitationsPerFaculty = []\n",
    "    InternationalFacultyRatio = []\n",
    "    InternationalStudentsRatio = []\n",
    "    InternationalResearchNetwork = []\n",
    "    EmploymentOutcomes = []\n",
    "    Sustainability = []\n",
    "    \n",
    "    url = \"https://www.topuniversities.com/rankings/endpoint\"\n",
    "\n",
    "    querystring = {\"nid\":\"3897789\",\"page\":f\"{cur_page}\",\"items_per_page\":f\"{items_per_page}\",\"tab\":\"indicators\",\"region\":\"\",\"countries\":\"\",\"cities\":\"\",\"search\":\"\",\"star\":\"\",\"sort_by\":\"overallscore\",\"order_by\":\"asc\",\"program_type\":\"\"}\n",
    "\n",
    "    payload = \"\"\n",
    "    headers = \"\"\n",
    "\n",
    "    # Gửi yêu cầu kết nối\n",
    "    response = requests.request(\"GET\", url, data=payload, headers=headers, params=querystring)\n",
    "    \n",
    "    # Nếu trả về Status 200 --> Success\n",
    "    if response.status_code == 200:\n",
    "        text = response.json()\n",
    "        \n",
    "        list_uni = text['score_nodes']  \n",
    "\n",
    "        for i in range(items_per_page):\n",
    "            # Tên đại học\n",
    "            name.append(list_uni[i]['title'])\n",
    "\n",
    "            # Châu lục\n",
    "            region.append(list_uni[i]['region'])\n",
    "            \n",
    "            # Vị trí\n",
    "            country.append(list_uni[i]['country'])\n",
    "            \n",
    "            # Điểm trung bình\n",
    "            overall.append(list_uni[i]['overall_score'])\n",
    "            \n",
    "            # Danh sách điểm chi tiết\n",
    "            scores = list_uni[i]['scores']\n",
    "            \n",
    "            AcademicReputation.append(scores[0]['score'])\n",
    "            EmployerReputation.append(scores[1]['score'])\n",
    "            FacultyStudentRatio.append(scores[2]['score'])\n",
    "            CitationsPerFaculty.append(scores[3]['score'])\n",
    "            InternationalFacultyRatio.append(scores[4]['score'])\n",
    "            InternationalStudentsRatio.append(scores[5]['score'])\n",
    "            InternationalResearchNetwork.append(scores[6]['score'])\n",
    "            EmploymentOutcomes.append(scores[7]['score'])\n",
    "            Sustainability.append(scores[8]['score'])\n",
    "                \n",
    "    data = pd.DataFrame({\n",
    "        \"Institution Name\": name,\n",
    "        \"Region\": region,\n",
    "        \"Country\": country, \n",
    "        \"Overall\": overall,\n",
    "        \"Academic Reputation\": AcademicReputation,\n",
    "        \"Employer Reputation\": EmployerReputation,\n",
    "        \"Faculty Student Ratio\": FacultyStudentRatio,\n",
    "        \"Citations Per Faculty\": CitationsPerFaculty,\n",
    "        \"International Faculty Ratio\": InternationalFacultyRatio,\n",
    "        \"International Students Ratio\": InternationalStudentsRatio,\n",
    "        \"International Research Network\": InternationalResearchNetwork,\n",
    "        \"Employment Outcomes\": EmploymentOutcomes,\n",
    "        \"Sustainability\": Sustainability,\n",
    "    })\n",
    "    \n",
    "    return data\n",
    "\n"
   ]
  },
  {
   "cell_type": "code",
   "execution_count": 3,
   "metadata": {},
   "outputs": [],
   "source": [
    "def Generate_Universities_Dataset(quantity, items_per_page):\n",
    "    index = 0\n",
    "    num_uni = 0\n",
    "    data = pd.DataFrame()\n",
    "    \n",
    "    # Nếu số lượng vượt quá yêu cầu thì kết thúc\n",
    "    while num_uni < quantity:\n",
    "        data = pd.concat([data, collect_data(index, items_per_page)], ignore_index=True)\n",
    "        \n",
    "        num_uni += items_per_page\n",
    "        index += 1\n",
    "\n",
    "    return data"
   ]
  },
  {
   "cell_type": "code",
   "execution_count": 4,
   "metadata": {},
   "outputs": [
    {
     "name": "stdout",
     "output_type": "stream",
     "text": [
      "Data saved to ../Data/raw/universities.csv\n"
     ]
    }
   ],
   "source": [
    "# Lưu data vào file csv\n",
    "uni_df = Generate_Universities_Dataset(1200, 15)\n",
    "\n",
    "file_path = '../Data/raw/universities.csv'\n",
    "\n",
    "uni_df.to_csv(file_path, index=False)\n",
    "\n",
    "print(f'Data saved to {file_path}')"
   ]
  },
  {
   "cell_type": "code",
   "execution_count": 5,
   "metadata": {},
   "outputs": [
    {
     "name": "stdout",
     "output_type": "stream",
     "text": [
      "<class 'pandas.core.frame.DataFrame'>\n",
      "RangeIndex: 1200 entries, 0 to 1199\n",
      "Data columns (total 13 columns):\n",
      " #   Column                          Non-Null Count  Dtype \n",
      "---  ------                          --------------  ----- \n",
      " 0   Institution Name                1200 non-null   object\n",
      " 1   Region                          1200 non-null   object\n",
      " 2   Country                         1200 non-null   object\n",
      " 3   Overall                         1200 non-null   object\n",
      " 4   Academic Reputation             1200 non-null   object\n",
      " 5   Employer Reputation             1200 non-null   object\n",
      " 6   Faculty Student Ratio           1200 non-null   object\n",
      " 7   Citations Per Faculty           1200 non-null   object\n",
      " 8   International Faculty Ratio     1200 non-null   object\n",
      " 9   International Students Ratio    1200 non-null   object\n",
      " 10  International Research Network  1200 non-null   object\n",
      " 11  Employment Outcomes             1200 non-null   object\n",
      " 12  Sustainability                  1200 non-null   object\n",
      "dtypes: object(13)\n",
      "memory usage: 122.0+ KB\n"
     ]
    }
   ],
   "source": [
    "# DataFrame World Universities Ranking\n",
    "uni_df"
   ]
  }
 ],
 "metadata": {
  "kernelspec": {
   "display_name": "pytorch_env",
   "language": "python",
   "name": "python3"
  },
  "language_info": {
   "codemirror_mode": {
    "name": "ipython",
    "version": 3
   },
   "file_extension": ".py",
   "mimetype": "text/x-python",
   "name": "python",
   "nbconvert_exporter": "python",
   "pygments_lexer": "ipython3",
   "version": "3.9.18"
  }
 },
 "nbformat": 4,
 "nbformat_minor": 2
}
